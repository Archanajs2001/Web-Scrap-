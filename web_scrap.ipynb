{
  "nbformat": 4,
  "nbformat_minor": 0,
  "metadata": {
    "colab": {
      "provenance": []
    },
    "kernelspec": {
      "name": "python3",
      "display_name": "Python 3"
    },
    "language_info": {
      "name": "python"
    }
  },
  "cells": [
    {
      "cell_type": "code",
      "execution_count": 53,
      "metadata": {
        "colab": {
          "base_uri": "https://localhost:8080/"
        },
        "id": "kSdC0-sqbWwF",
        "outputId": "0737cc64-9965-445c-d15f-ea4a70cd1c4f"
      },
      "outputs": [
        {
          "output_type": "stream",
          "name": "stdout",
          "text": [
            "Degree Type: Undergraduate\n",
            "\n",
            "Application Deadline: 31 January 2024\n",
            "\n",
            "Duration of the degree: Three years full-time\n",
            "\n",
            "Admission eligibility/entry requirements:\n",
            "\n",
            "GCSEsA strong set of GCSE grades including the majority at A (or 7) and A* (or 8-9)GCSE (or equivalent) English Language and Mathematics grades should be no lower than B (or 6)We also consider your overall GCSE subject profile\n",
            "A-levels*AAAWe also consider your AS grades, if available\n",
            "Contextual admissions A-level grades**AAB\n",
            "IB Diploma38 points overall. 766 at higher level\n",
            "Contextual admissions IB grades**37 points overall. 666 at higher level\n",
            "\n",
            "Overseas Student Fees: 26,184\n",
            "\n",
            "Brief degree description:\n",
            "\n",
            "BA History at LSE is a modern international history degree, with courses that span from the fifteenth century to the twenty-first century. You will gain an understanding of the forces that have shaped the past and those that are shaping the world we live in today.\n"
          ]
        }
      ],
      "source": [
        "import requests\n",
        "import re\n",
        "from bs4 import BeautifulSoup\n",
        "\n",
        "\n",
        "# Fetch webpage content\n",
        "url = \"https://www.lse.ac.uk/study-at-lse/undergraduate/degree-programmes-2024/ba-history\"\n",
        "response = requests.get(url)\n",
        "html_content = response.text\n",
        "\n",
        "# Parse HTML\n",
        "soup = BeautifulSoup(html_content, 'html.parser')\n",
        "\n",
        "degree_type_match = re.search(r'Ba(.*)History', soup.title.string, re.IGNORECASE)\n",
        "degree_type = \"Undergraduate\" if degree_type_match else \"Unknown\"\n",
        "print(\"Degree Type:\", degree_type)\n",
        "\n",
        "application_deadline = re.findall(r\"<th>\\s*Application\\s*deadline\\s*</th>\\s*<td>\\s*(\\d{1,2}\\s+\\w*\\s+\\d{4})\\s*</td>\", html_content, re.DOTALL)\n",
        "application_deadline = \"\\n\".join(application_deadline)\n",
        "print(\"\\nApplication Deadline:\", application_deadline)\n",
        "\n",
        "duration = re.findall(r\"<th>\\s*Duration\\s*</th>\\s*<td>\\s*(.*?)\\s*</td>\", html_content, re.DOTALL)\n",
        "duration = \"\\n\".join(duration)\n",
        "print(\"\\nDuration of the degree:\", duration)\n",
        "\n",
        "print('\\nAdmission eligibility/entry requirements:\\n')\n",
        "\n",
        "# Find all <p> elements\n",
        "paragraphs = soup.find_all('p')\n",
        "\n",
        "for i in range(8, 13):\n",
        "    desired_paragraph = paragraphs[i]\n",
        "    text = desired_paragraph.get_text()\n",
        "    print(text)\n",
        "\n",
        "fees = re.findall(r\"international\\s\\w*\\s\\w*\\s&pound;(\\d+(?:,\\d+)*)\", html_content, re.DOTALL)\n",
        "fees = \"\\n\".join(fees)\n",
        "print(\"\\nOverseas Student Fees:\", fees)\n",
        "\n",
        "print('\\nBrief degree description:\\n')\n",
        "\n",
        "\n",
        "desired_paragraph = paragraphs[1]\n",
        "text = desired_paragraph.get_text()\n",
        "print(text)"
      ]
    },
    {
      "cell_type": "code",
      "source": [],
      "metadata": {
        "id": "ftJwHdTYlBO7"
      },
      "execution_count": null,
      "outputs": []
    }
  ]
}