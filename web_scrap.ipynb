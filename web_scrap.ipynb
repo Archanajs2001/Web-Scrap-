{
  "nbformat": 4,
  "nbformat_minor": 0,
  "metadata": {
    "colab": {
      "provenance": []
    },
    "kernelspec": {
      "name": "python3",
      "display_name": "Python 3"
    },
    "language_info": {
      "name": "python"
    }
  },
  "cells": [
    {
      "cell_type": "code",
      "execution_count": null,
      "metadata": {
        "colab": {
          "base_uri": "https://localhost:8080/"
        },
        "id": "kSdC0-sqbWwF",
        "outputId": "ff91f48e-c24c-4bd4-8b60-04c652e8ae50"
      },
      "outputs": [
        {
          "output_type": "stream",
          "name": "stdout",
          "text": [
            "Application Deadline: 31 January 2024\n",
            "Duration: Three years full-time\n",
            "Overseas Student Fees: 26,184\n"
          ]
        }
      ],
      "source": [
        "import requests\n",
        "import re\n",
        "\n",
        "\n",
        "# Fetch webpage content\n",
        "url = \"https://www.lse.ac.uk/study-at-lse/undergraduate/degree-programmes-2024/ba-history\"\n",
        "response = requests.get(url)\n",
        "html_content = response.text\n",
        "\n",
        "# Extract text using regular expressions\n",
        "application_deadline = re.findall(r\"<th>\\s*Application\\s*deadline\\s*</th>\\s*<td>\\s*(\\d{1,2}\\s+\\w*\\s+\\d{4})\\s*</td>\", html_content, re.DOTALL)\n",
        "\n",
        "# Concatenate paragraphs into a single string\n",
        "application_deadline = \"\\n\".join(application_deadline)\n",
        "\n",
        "# Print extracted text\n",
        "print(\"Application Deadline:\", application_deadline)\n",
        "\n",
        "duration = re.findall(r\"<th>\\s*Duration\\s*</th>\\s*<td>\\s*(.*?)\\s*</td>\", html_content, re.DOTALL)\n",
        "duration = \"\\n\".join(duration)\n",
        "print(\"Duration:\", duration)\n",
        "\n",
        "fees = re.findall(r\"international\\s\\w*\\s\\w*\\s&pound;(\\d+(?:,\\d+)*)\", html_content, re.DOTALL)\n",
        "fees = \"\\n\".join(fees)\n",
        "print(\"Overseas Student Fees:\", fees)\n",
        "\n"
      ]
    },
    {
      "cell_type": "code",
      "source": [],
      "metadata": {
        "id": "ftJwHdTYlBO7"
      },
      "execution_count": null,
      "outputs": []
    }
  ]
}